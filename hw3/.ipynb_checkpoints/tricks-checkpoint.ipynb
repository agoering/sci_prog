{
 "metadata": {
  "name": ""
 },
 "nbformat": 3,
 "nbformat_minor": 0,
 "worksheets": [
  {
   "cells": [
    {
     "cell_type": "raw",
     "metadata": {},
     "source": [
      "Reading first and last line of file: splitting it splits the strings by space as well. This is no good because later the strings aren't spaced in the descriptor field, and we will end up with variable number of columns. I could split by cuts.\n",
      "\n",
      "(http://stackoverflow.com/questions/3346430/most-efficient-way-to-get-first-and-last-line-of-file-python)"
     ]
    },
    {
     "cell_type": "code",
     "collapsed": false,
     "input": [
      "import numpy as np\n",
      "with open('master1.txt','r') as f:\n",
      "    lines = f.readlines()\n",
      "    \n",
      "#first line\n",
      "    first_line = lines[1]\n",
      "    print first_line\n",
      "    print first_line.split()\n",
      "    print len(first_line)\n",
      "\n",
      "#last line\n",
      "    last_line = lines[-1]\n",
      "    print last_line\n",
      "    print last_line.split()\n",
      "    print len(last_line)\n",
      "    \n",
      "#manipulate strings to get rid of the space problem\n",
      "    first_line = first_line.replace('NOT NAMED','NOT_NAMED')\n",
      "    print first_line\n",
      "    myArray = np.array([first_line.strip()])\n",
      "    #np.append(array,first_line)\n",
      "    print myArray\n",
      "    newArray = np.append(myArray,last_line.strip())\n",
      "    print newArray"
     ],
     "language": "python",
     "metadata": {},
     "outputs": [
      {
       "output_type": "stream",
       "stream": "stdout",
       "text": [
        " 371  NOT NAMED     15.2   -43.4   35     0  1900      0.00   TROPICAL STORM              \n",
        "\n",
        "['371', 'NOT', 'NAMED', '15.2', '-43.4', '35', '0', '1900', '0.00', 'TROPICAL', 'STORM']\n",
        "91\n",
        "1460  IDA           30.8   -85.5   30  1006  2009  40128.25   Extratropical               \n",
        "\n",
        "['1460', 'IDA', '30.8', '-85.5', '30', '1006', '2009', '40128.25', 'Extratropical']\n",
        "91\n",
        " 371  NOT_NAMED     15.2   -43.4   35     0  1900      0.00   TROPICAL STORM              \n",
        "\n",
        "[ '371  NOT_NAMED     15.2   -43.4   35     0  1900      0.00   TROPICAL STORM']\n",
        "[ '371  NOT_NAMED     15.2   -43.4   35     0  1900      0.00   TROPICAL STORM'\n",
        " '1460  IDA           30.8   -85.5   30  1006  2009  40128.25   Extratropical']\n"
       ]
      }
     ],
     "prompt_number": 2
    }
   ],
   "metadata": {}
  }
 ]
}