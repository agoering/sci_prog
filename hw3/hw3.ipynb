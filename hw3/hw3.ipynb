{
 "metadata": {
  "name": ""
 },
 "nbformat": 3,
 "nbformat_minor": 0,
 "worksheets": [
  {
   "cells": [
    {
     "cell_type": "heading",
     "level": 1,
     "metadata": {},
     "source": [
      "by Andrea Yocom. Sorry for the html again."
     ]
    },
    {
     "cell_type": "code",
     "collapsed": false,
     "input": [
      "with open('hw3_todo.txt') as f:\n",
      "    print f.read()"
     ],
     "language": "python",
     "metadata": {},
     "outputs": [
      {
       "output_type": "stream",
       "stream": "stdout",
       "text": [
        "hw3 To Do\n",
        "\n",
        "Understand the file format:\n",
        "Column 1 is Storm ID\n",
        "Column 2 is name of storm\n",
        "Column 3,4 is lat/long\n",
        "Column 5/6 is wind speed and central pressure\n",
        "Column 7 is year\n",
        "Column 8 is some running date field in units of hours.\n",
        "Column 9 is a descriptor\n",
        "\n",
        "What options are in descriptor field? Need to identify hurricane events.\n",
        "\n",
        "Read/write to paste into Google Code with following format:\n",
        "Col 0: Decade, begin 1920 end 2010. String, number, date, datetime ok\n",
        "Col 1-n: number of hurricanes in pressure bins: number only\n",
        "\n",
        "Syntax required for input to Google Code:\n",
        "       [['str','str','str',...,'str']\n",
        "\t['str',#,#,#,...,#],\n",
        "\t[...],\n",
        "\t[...],\n",
        "\t[...]]\n",
        " \n",
        "Program determines:\n",
        " - frequency of hurricane events\n",
        " - min(central pressure) for each hurricane event\n",
        "\n",
        "1. (DONE) Isolate hurricanes only\n",
        "2. Isolate distinct storms by decade\n",
        "3. Calculate min central pressure for each distinct storm\n",
        "4. Define pressure bins\n",
        "5. Count frequency of hurricanes, filter by pressure bins\n"
       ]
      }
     ],
     "prompt_number": 36
    },
    {
     "cell_type": "code",
     "collapsed": false,
     "input": [
      "import numpy as np\n",
      "import scipy as sp"
     ],
     "language": "python",
     "metadata": {},
     "outputs": [],
     "prompt_number": 37
    },
    {
     "cell_type": "raw",
     "metadata": {},
     "source": [
      "Want: \n",
      "[['Year','min-min+10','min - min+20' ... 'roundup(max)-10 - roundup(max)'],\n",
      "[1920,count if in first bin, count if in second bin, ... , count if in last bin],\n",
      "...\n",
      "[2010, ...]]"
     ]
    },
    {
     "cell_type": "raw",
     "metadata": {},
     "source": [
      "We only want the hurricanes, and we need to know the year, the id, and the central pressure. I know from looking at the file that hurricanes have \"HURRICANE\" in the descriptor, so I form a dataset from the year, id, and central pressure of hurricanes only. \n",
      "(http://askubuntu.com/questions/336296/bash-cut-and-grep-commands-through-python and http://python4astronomers.github.io/files/asciifiles.html)"
     ]
    },
    {
     "cell_type": "code",
     "collapsed": false,
     "input": [
      "# path to the file to read from\n",
      "my_file = \"master1.txt\"\n",
      "# what to look in each line\n",
      "look_for = \"HURRICANE\"\n",
      "# variable to store relevant data from lines containing specified string\n",
      "data = []\n",
      "\n",
      "with open(my_file, \"r\") as file_to_read:   \n",
      "    \n",
      "    for line in file_to_read:\n",
      "        if look_for in line:\n",
      "            #eliminate the problem of the space in the name field\n",
      "            line = line.replace('NOT NAMED','NOT_NAMED')\n",
      "            #get rid of newline characters\n",
      "            line = line.strip()\n",
      "            #split into columns\n",
      "            columns = line.split()\n",
      "            \n",
      "            #the following creates a list of lists\n",
      "            data.append([int(columns[6]),int(columns[0]),int(columns[5])])\n",
      "\n",
      "\n",
      "#the following gets rid of data with nonzero pressures\n",
      "stuff = []\n",
      "\n",
      "for i in range(len(data)):\n",
      "    if data[i][2] != 0:\n",
      "        stuff.append(data[i])\n",
      "        \n",
      "#print stuff"
     ],
     "language": "python",
     "metadata": {},
     "outputs": [],
     "prompt_number": 94
    },
    {
     "cell_type": "raw",
     "metadata": {},
     "source": [
      "The strategy I'm testing on these shorter lists is to try and wind up with a list containing only ['year','storm id','min nonzero pressure'] - so I want to try and do it by sorting through the lists, for a given year and storm id finding the min pressure and adding to a new list... so far my attempts have been fruitless. The most recent attempt is at the bottom."
     ]
    },
    {
     "cell_type": "code",
     "collapsed": false,
     "input": [
      "lista=[[1900,371,0],[1900,371,900],[1900,380,0],[1900,380,850],[1901,390,0],[1901,390,890]]\n",
      "\n",
      "#read each year,id,pressure:\n",
      "newStorm = [lista[0][0],lista[0][1],lista[0][2]]\n",
      "distinctStorms = []\n",
      "for i in range(len(lista)):\n",
      "    #while in the same year as previous value and same ID as previous value, if not zero, append year,pressure to data\n",
      "    if lista[i][0] == newStorm[0]:\n",
      "        if lista[i][1] == newStorm[1]:\n",
      "            if not lista[i][2] == 0:\n",
      "                distinctStorms.append([lista[i][0],lista[i][2]])\n",
      "        #if new storm ID, update newStorm\n",
      "        else:\n",
      "            newStorm[1] = lista[i][1]\n",
      "    #if new year, update newStorm\n",
      "    else:\n",
      "        newStorm[0] = lista[i][0]\n",
      "print pressures"
     ],
     "language": "python",
     "metadata": {},
     "outputs": [
      {
       "output_type": "stream",
       "stream": "stdout",
       "text": [
        "[974, 936, 973, 970, 970, 958, 986, 976, 990, 979, 950, 977, 953, 958, 953, 989, 972, 985, 959, 976, 952, 957]\n"
       ]
      }
     ],
     "prompt_number": 88
    },
    {
     "cell_type": "code",
     "collapsed": false,
     "input": [
      "lista=[[1900,371,0],[1900,371,900],[1900,380,0],[1900,380,850],[1901,390,0],[1901,390,890]]\n",
      "print lista[:][0]\n",
      "year = lista[0][0]\n",
      "#print year\n",
      "for i in range(len(lista)):\n",
      "    if lista[i][0] == year:\n",
      "        print [lista[i][1],lista[i][2]]\n",
      "    else:\n",
      "        year += 1"
     ],
     "language": "python",
     "metadata": {},
     "outputs": [
      {
       "output_type": "stream",
       "stream": "stdout",
       "text": [
        "[1900, 371, 0]\n",
        "[371, 0]\n",
        "[371, 900]\n",
        "[380, 0]\n",
        "[380, 850]\n",
        "[390, 890]\n"
       ]
      }
     ],
     "prompt_number": 89
    },
    {
     "cell_type": "code",
     "collapsed": false,
     "input": [
      "lista=[[1900,371,0],[1900,371,900],[1900,380,0],[1900,380,850],[1901,390,0],[1901,390,890]]\n",
      "\n",
      "#split into discrete lists\n",
      "years = []\n",
      "ids = []\n",
      "pressures = []\n",
      "for i in range(len(lista)):\n",
      "    years.append(lista[i][0])\n",
      "    ids.append(lista[i][1])\n",
      "    pressures.append(lista[i][2])\n",
      "    \n",
      "print years\n",
      "print ids\n",
      "print pressures\n",
      "\n",
      "#print the unique ids\n",
      "\n",
      "for i in list(set(ids))\n",
      "\n",
      "#get rid of zero pressures\n",
      "stuff = []\n",
      "\n",
      "for i in range(len(pressures)):\n",
      "    if pressures[i] != 0:\n",
      "        stuff.append([years[i],ids[i],pressures[i]])\n",
      "print stuff"
     ],
     "language": "python",
     "metadata": {},
     "outputs": [
      {
       "ename": "SyntaxError",
       "evalue": "invalid syntax (<ipython-input-91-d42e06e2e2bd>, line 18)",
       "output_type": "pyerr",
       "traceback": [
        "\u001b[0;36m  File \u001b[0;32m\"<ipython-input-91-d42e06e2e2bd>\"\u001b[0;36m, line \u001b[0;32m18\u001b[0m\n\u001b[0;31m    for i in list(set(ids))\u001b[0m\n\u001b[0m                           ^\u001b[0m\n\u001b[0;31mSyntaxError\u001b[0m\u001b[0;31m:\u001b[0m invalid syntax\n"
       ]
      }
     ],
     "prompt_number": 91
    },
    {
     "cell_type": "code",
     "collapsed": false,
     "input": [
      "lista=[[1900, 371, 974], [1900, 371, 936], [1901, 381, 973], [1902, 393, 970], [1903, 396, 970], [1903, 396, 958], [1903, 396, 986], [1903, 397, 976], [1903, 398, 990], [1906, 416, 979], [1906, 418, 950], [1906, 419, 977], [1906, 420, 953], [1906, 420, 958], [1906, 422, 953], [1908, 432, 989], [1909, 442, 972], [1909, 444, 985], [1909, 444, 959], [1909, 448, 976], [1909, 448, 952], [1909, 450, 957]]\n",
      "#keep only data with nonzero pressure reading\n",
      "stuff = []\n",
      "\n",
      "for i in range(len(lista)):\n",
      "    if lista[i][2] != 0:\n",
      "        stuff.append(lista[i])\n",
      "\n",
      "#split into discrete lists\n",
      "years = []\n",
      "ids = []\n",
      "pressures = []\n",
      "for i in range(len(stuff)):\n",
      "    years.append(stuff[i][0])\n",
      "    ids.append(stuff[i][1])\n",
      "    pressures.append(stuff[i][2])\n",
      "    \n",
      "print list(set(years))\n",
      "print list(set(ids))\n",
      "print pressures"
     ],
     "language": "python",
     "metadata": {},
     "outputs": [
      {
       "output_type": "stream",
       "stream": "stdout",
       "text": [
        "[1900, 1901, 1902, 1903, 1906, 1908, 1909]\n",
        "[416, 448, 418, 419, 420, 422, 393, 396, 397, 398, 432, 450, 371, 442, 444, 381]\n",
        "[974, 936, 973, 970, 970, 958, 986, 976, 990, 979, 950, 977, 953, 958, 953, 989, 972, 985, 959, 976, 952, 957]\n"
       ]
      }
     ],
     "prompt_number": 81
    },
    {
     "cell_type": "code",
     "collapsed": false,
     "input": [
      "lista=[[1900, 371, 974], [1900, 371, 936], [1901, 381, 973], [1902, 393, 970], [1903, 396, 970], [1903, 396, 958], [1903, 396, 986], [1903, 397, 976], [1903, 398, 990], [1906, 416, 979], [1906, 418, 950], [1906, 419, 977], [1906, 420, 953], [1906, 420, 958], [1906, 422, 953], [1908, 432, 989], [1909, 442, 972], [1909, 444, 985], [1909, 444, 959], [1909, 448, 976], [1909, 448, 952], [1909, 450, 957]]\n",
      "\n",
      "#lista contains only nonzero pressure readings for first decade\n",
      "\n",
      "#initialize a list to compare each list within lista against\n",
      "dummy = [0,0,100000]\n",
      "keep = []\n",
      "for i in range(len(lista)):\n",
      "    \n",
      "    #loop through unique storms. If new storm, update the keep list with old data, update [year,storm] in dummy, reset dummy pressure\n",
      "    if lista[i][1] != dummy[1]:\n",
      "        keep.append(dummy)\n",
      "        dummy[0] = lista[i][0]\n",
      "        dummy[1] = lista[i][1]\n",
      "        dummy[2] = 100000\n",
      "    #else if we are still on the same storm, we still have to check for lower pressures, but don't update dummy\n",
      "\n",
      "    if lista[i][2] <= dummy[2]:\n",
      "        #update pressure in dummy if pressure is a new low\n",
      "        dummy[2] = lista[i][2]\n",
      "    #else if we have reached a higher pressure, we loop back to the next row.    \n",
      "        \n",
      "    #else if we are still on the same year, we still have to check for unique storms, but no need to update dummy. \n",
      "    #therefore year loop is redundant. Included below for reference.\n",
      "    #loop through unique years row by row\n",
      "    #if lista[i][0] != dummy[0]:\n",
      "    #    dummy[0] = lista[i][0]    \n",
      "print keep"
     ],
     "language": "python",
     "metadata": {},
     "outputs": [
      {
       "output_type": "stream",
       "stream": "stdout",
       "text": [
        "[[1909, 450, 957], [1909, 450, 957], [1909, 450, 957], [1909, 450, 957], [1909, 450, 957], [1909, 450, 957], [1909, 450, 957], [1909, 450, 957], [1909, 450, 957], [1909, 450, 957], [1909, 450, 957], [1909, 450, 957], [1909, 450, 957], [1909, 450, 957], [1909, 450, 957], [1909, 450, 957]]\n"
       ]
      }
     ],
     "prompt_number": 93
    }
   ],
   "metadata": {}
  }
 ]
}