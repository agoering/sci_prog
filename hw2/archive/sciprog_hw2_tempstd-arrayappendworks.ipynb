{
 "metadata": {
  "name": ""
 },
 "nbformat": 3,
 "nbformat_minor": 0,
 "worksheets": [
  {
   "cells": [
    {
     "cell_type": "heading",
     "level": 1,
     "metadata": {},
     "source": [
      "Scientific Programming Assignment 2: Standard Deviations of Temperature"
     ]
    },
    {
     "cell_type": "heading",
     "level": 2,
     "metadata": {},
     "source": [
      "Instructions:"
     ]
    },
    {
     "cell_type": "code",
     "collapsed": false,
     "input": [
      "with open('hw2_todo.txt') as f:\n",
      "    print \"Instructions: use hw2.xls file \\n\" + f.read()"
     ],
     "language": "python",
     "metadata": {},
     "outputs": [
      {
       "output_type": "stream",
       "stream": "stdout",
       "text": [
        "Instructions: use hw2.xls file \n",
        "Column C: Year\n",
        "Column D: Temperature in F\n",
        "\n",
        "1. Program: Calculate standard deviation of temperature from arbitrary beginning year and ending year input by user. \n",
        "\n",
        "2. Calibrate: report standard deviations for the years 1930 to 1960 and 1980 to 2010. \n",
        "\n",
        "3. Plot: temperature averaged in 10 year increments and standard deviation in 10 year increments. Temp data = red, stddev data = blue.\n",
        "\n",
        "4. Submit as a single PDF via email by 10pm\n"
       ]
      }
     ],
     "prompt_number": 3
    },
    {
     "cell_type": "heading",
     "level": 2,
     "metadata": {},
     "source": [
      "0. Read in the data"
     ]
    },
    {
     "cell_type": "raw",
     "metadata": {},
     "source": [
      "Importing the data from .csv, but without the first two columns:"
     ]
    },
    {
     "cell_type": "code",
     "collapsed": false,
     "input": [
      "import numpy as np\n",
      "import scipy as sp\n",
      "data = np.genfromtxt('hw2.csv', delimiter = ',' , usecols = (2,3))\n",
      "print data"
     ],
     "language": "python",
     "metadata": {},
     "outputs": [
      {
       "output_type": "stream",
       "stream": "stdout",
       "text": [
        "[[ 1850.     57.7]\n",
        " [ 1851.     58. ]\n",
        " [ 1852.     58. ]\n",
        " [ 1853.     57.9]\n",
        " [ 1854.     57.9]\n",
        " [ 1855.     57.9]\n",
        " [ 1856.     57.8]\n",
        " [ 1857.     57.6]\n",
        " [ 1858.     57.6]\n",
        " [ 1859.     57.9]\n",
        " [ 1860.     57.8]\n",
        " [ 1861.     57.8]\n",
        " [ 1862.     57.5]\n",
        " [ 1863.     57.9]\n",
        " [ 1864.     57.6]\n",
        " [ 1865.     58. ]\n",
        " [ 1866.     58. ]\n",
        " [ 1867.     57.9]\n",
        " [ 1868.     58. ]\n",
        " [ 1869.     57.9]\n",
        " [ 1870.     58. ]\n",
        " [ 1871.     57.9]\n",
        " [ 1872.     58. ]\n",
        " [ 1873.     57.9]\n",
        " [ 1874.     57.8]\n",
        " [ 1875.     57.7]\n",
        " [ 1876.     57.8]\n",
        " [ 1877.     58.3]\n",
        " [ 1878.     58.5]\n",
        " [ 1879.     58. ]\n",
        " [ 1880.     58. ]\n",
        " [ 1881.     58.1]\n",
        " [ 1882.     58.1]\n",
        " [ 1883.     58. ]\n",
        " [ 1884.     57.8]\n",
        " [ 1885.     57.8]\n",
        " [ 1886.     58. ]\n",
        " [ 1887.     57.8]\n",
        " [ 1888.     57.9]\n",
        " [ 1889.     58.2]\n",
        " [ 1890.     57.7]\n",
        " [ 1891.     57.8]\n",
        " [ 1892.     57.6]\n",
        " [ 1893.     57.6]\n",
        " [ 1894.     57.7]\n",
        " [ 1895.     57.7]\n",
        " [ 1896.     58.1]\n",
        " [ 1897.     58.1]\n",
        " [ 1898.     57.7]\n",
        " [ 1899.     57.9]\n",
        " [ 1900.     58.1]\n",
        " [ 1901.     58. ]\n",
        " [ 1902.     57.7]\n",
        " [ 1903.     57.6]\n",
        " [ 1904.     57.5]\n",
        " [ 1905.     57.8]\n",
        " [ 1906.     57.9]\n",
        " [ 1907.     57.6]\n",
        " [ 1908.     57.5]\n",
        " [ 1909.     57.5]\n",
        " [ 1910.     57.5]\n",
        " [ 1911.     57.5]\n",
        " [ 1912.     57.6]\n",
        " [ 1913.     57.6]\n",
        " [ 1914.     58. ]\n",
        " [ 1915.     58.1]\n",
        " [ 1916.     57.7]\n",
        " [ 1917.     57.6]\n",
        " [ 1918.     57.8]\n",
        " [ 1919.     57.9]\n",
        " [ 1920.     57.9]\n",
        " [ 1921.     58. ]\n",
        " [ 1922.     57.8]\n",
        " [ 1923.     57.9]\n",
        " [ 1924.     57.9]\n",
        " [ 1925.     58. ]\n",
        " [ 1926.     58.2]\n",
        " [ 1927.     58. ]\n",
        " [ 1928.     58. ]\n",
        " [ 1929.     57.8]\n",
        " [ 1930.     58.2]\n",
        " [ 1931.     58.3]\n",
        " [ 1932.     58.2]\n",
        " [ 1933.     58. ]\n",
        " [ 1934.     58.2]\n",
        " [ 1935.     58.2]\n",
        " [ 1936.     58.2]\n",
        " [ 1937.     58.4]\n",
        " [ 1938.     58.5]\n",
        " [ 1939.     58.5]\n",
        " [ 1940.     58.5]\n",
        " [ 1941.     58.6]\n",
        " [ 1942.     58.4]\n",
        " [ 1943.     58.4]\n",
        " [ 1944.     58.7]\n",
        " [ 1945.     58.5]\n",
        " [ 1946.     58.1]\n",
        " [ 1947.     58.1]\n",
        " [ 1948.     58.1]\n",
        " [ 1949.     58.1]\n",
        " [ 1950.     57.9]\n",
        " [ 1951.     58.2]\n",
        " [ 1952.     58.4]\n",
        " [ 1953.     58.5]\n",
        " [ 1954.     58. ]\n",
        " [ 1955.     58. ]\n",
        " [ 1956.     57.9]\n",
        " [ 1957.     58.4]\n",
        " [ 1958.     58.5]\n",
        " [ 1959.     58.4]\n",
        " [ 1960.     58.3]\n",
        " [ 1961.     58.5]\n",
        " [ 1962.     58.5]\n",
        " [ 1963.     58.5]\n",
        " [ 1964.     58. ]\n",
        " [ 1965.     58.1]\n",
        " [ 1966.     58.2]\n",
        " [ 1967.     58.2]\n",
        " [ 1968.     58.2]\n",
        " [ 1969.     58.5]\n",
        " [ 1970.     58.4]\n",
        " [ 1971.     58.2]\n",
        " [ 1972.     58.4]\n",
        " [ 1973.     58.6]\n",
        " [ 1974.     58.1]\n",
        " [ 1975.     58.7]\n",
        " [ 1976.     58.5]\n",
        " [ 1977.     59. ]\n",
        " [ 1978.     58.9]\n",
        " [ 1979.     59.1]\n",
        " [ 1980.     59.1]\n",
        " [ 1981.     59.2]\n",
        " [ 1982.     59. ]\n",
        " [ 1983.     59.3]\n",
        " [ 1984.     59. ]\n",
        " [ 1985.     58.9]\n",
        " [ 1986.     59.1]\n",
        " [ 1987.     59.3]\n",
        " [ 1988.     59.3]\n",
        " [ 1989.     59.2]\n",
        " [ 1990.     59.5]\n",
        " [ 1991.     59.4]\n",
        " [ 1992.     59.1]\n",
        " [ 1993.     59.2]\n",
        " [ 1994.     59.3]\n",
        " [ 1995.     59.5]\n",
        " [ 1996.     59.2]\n",
        " [ 1997.     59.6]\n",
        " [ 1998.     60. ]\n",
        " [ 1999.     59.5]\n",
        " [ 2000.     59.5]\n",
        " [ 2001.     59.7]\n",
        " [ 2002.     59.8]\n",
        " [ 2003.     59.9]\n",
        " [ 2004.     59.8]\n",
        " [ 2005.     59.9]\n",
        " [ 2006.     59.8]\n",
        " [ 2007.     59.7]\n",
        " [ 2008.     59.6]\n",
        " [ 2009.     59.2]\n",
        " [ 2010.     60.1]\n",
        " [ 2011.     60.4]\n",
        " [ 2012.     60.8]]\n"
       ]
      }
     ],
     "prompt_number": 4
    },
    {
     "cell_type": "heading",
     "level": 2,
     "metadata": {},
     "source": [
      "1. Program: Standard deviation calculation starting/ending at user-defined years in range"
     ]
    },
    {
     "cell_type": "raw",
     "metadata": {},
     "source": [
      "This works for the full range, so that's good."
     ]
    },
    {
     "cell_type": "code",
     "collapsed": false,
     "input": [
      "# Computes the standard deviation of the temperature given a range of years\n",
      "def annual_temp_stdev(data,begin,end):\n",
      "    \"\"\"data must be a 2-col array of year and temp, begin and end are years to define averaging\"\"\"\n",
      "    #check to make sure begin and end are within range\n",
      "    if begin not in data[:,0]:\n",
      "        print \"Beginning year not in range \" + str(data[0,0]) + \" to \" + str(data[len(data)-1,0]) + \", try again.\"\n",
      "    elif end not in data[:,0]:\n",
      "        print \"Ending year not in range \" + str(data[0,0]) + \" to \" + str(data[len(data)-1,0]) + \", try again.\"\n",
      "    else:\n",
      "        #index the begin and end years\n",
      "        ibegin = begin - data[0,0]\n",
      "        iend = end - data[0,0]\n",
      "        \n",
      "        #compute standard deviation of the temperatures in the range indicated by years\n",
      "        stdev = numpy.std(data[ibegin:iend+1,1])\n",
      "        #round\n",
      "        stdev = round(stdev,3)\n",
      "        \n",
      "        print \"Standard deviation for temperatures in years \" + str(begin) \\\n",
      "        + \" to \" + str(end) + \" is \" + str(stdev) + \" degrees Fahrenheit.\"\n",
      "    return stdev"
     ],
     "language": "python",
     "metadata": {},
     "outputs": [],
     "prompt_number": 56
    },
    {
     "cell_type": "code",
     "collapsed": false,
     "input": [
      "annual_temp_stdev(data,1850,2012)"
     ],
     "language": "python",
     "metadata": {},
     "outputs": [
      {
       "output_type": "stream",
       "stream": "stdout",
       "text": [
        "Standard deviation for temperatures in years 1850 to 2012 is 0.686 degrees Fahrenheit.\n"
       ]
      },
      {
       "metadata": {},
       "output_type": "pyout",
       "prompt_number": 57,
       "text": [
        "0.686"
       ]
      }
     ],
     "prompt_number": 57
    },
    {
     "cell_type": "code",
     "collapsed": false,
     "input": [
      "numpy.std(data[:,1])"
     ],
     "language": "python",
     "metadata": {},
     "outputs": [
      {
       "metadata": {},
       "output_type": "pyout",
       "prompt_number": 59,
       "text": [
        "0.68628455323746362"
       ]
      }
     ],
     "prompt_number": 59
    },
    {
     "cell_type": "heading",
     "level": 2,
     "metadata": {},
     "source": [
      "2. Calibrate: report standard deviations for the years 1930 to 1960 and 1980 to 2010. "
     ]
    },
    {
     "cell_type": "code",
     "collapsed": false,
     "input": [
      "annual_temp_stdev(data,1930,1960)"
     ],
     "language": "python",
     "metadata": {},
     "outputs": [
      {
       "output_type": "stream",
       "stream": "stdout",
       "text": [
        "Standard deviation for temperatures in years 1930 to 1960 is 0.209 degrees Fahrenheit.\n"
       ]
      },
      {
       "metadata": {},
       "output_type": "pyout",
       "prompt_number": 60,
       "text": [
        "0.209"
       ]
      }
     ],
     "prompt_number": 60
    },
    {
     "cell_type": "code",
     "collapsed": false,
     "input": [
      "annual_temp_stdev(data,1980,2010)"
     ],
     "language": "python",
     "metadata": {},
     "outputs": [
      {
       "output_type": "stream",
       "stream": "stdout",
       "text": [
        "Standard deviation for temperatures in years 1980 to 2010 is 0.319 degrees Fahrenheit.\n"
       ]
      },
      {
       "metadata": {},
       "output_type": "pyout",
       "prompt_number": 61,
       "text": [
        "0.319"
       ]
      }
     ],
     "prompt_number": 61
    },
    {
     "cell_type": "heading",
     "level": 2,
     "metadata": {},
     "source": [
      "3. Plot: temperature averaged in 10 year increments and standard deviation in 10 year increments. Temp data = red, stddev data = blue."
     ]
    },
    {
     "cell_type": "raw",
     "metadata": {},
     "source": [
      "Less interactive version of annual_temp_stdev, without rounding. How about one for the mean, too."
     ]
    },
    {
     "cell_type": "code",
     "collapsed": false,
     "input": [
      "# Computes the standard deviation of the 2nd col given a range of items in the 1st col\n",
      "def my_stdev(data,begin,end):\n",
      "    \"\"\"data must be a 2-col array, begin and end are endpoints to define averaging\"\"\"\n",
      "    #check to make sure begin and end are within range\n",
      "    if begin not in data[:,0]:\n",
      "        print \"begin not in range \" + str(data[0,0]) + \" to \" + str(data[len(data)-1,0]) + \", try again.\"\n",
      "    elif end not in data[:,0]:\n",
      "        print \"end not in range \" + str(data[0,0]) + \" to \" + str(data[len(data)-1,0]) + \", try again.\"\n",
      "    else:\n",
      "        #index the begin and end points\n",
      "        ibegin = begin - data[0,0]\n",
      "        iend = end - data[0,0]\n",
      "        \n",
      "        #compute standard deviation of the data in the range indicated by [begin:end+1]\n",
      "        stdev = numpy.std(data[ibegin:iend+1,1])\n",
      "    return stdev"
     ],
     "language": "python",
     "metadata": {},
     "outputs": [],
     "prompt_number": 67
    },
    {
     "cell_type": "code",
     "collapsed": false,
     "input": [
      "# Computes the mean of the 2nd col given a range of items in the 1st col\n",
      "def my_mean(data,begin,end):\n",
      "    \"\"\"data must be a 2-col array, begin and end are endpoints to define averaging\"\"\"\n",
      "    #check to make sure begin and end are within range\n",
      "    if begin not in data[:,0]:\n",
      "        print \"begin not in range \" + str(data[0,0]) + \" to \" + str(data[len(data)-1,0]) + \", try again.\"\n",
      "    elif end not in data[:,0]:\n",
      "        print \"end not in range \" + str(data[0,0]) + \" to \" + str(data[len(data)-1,0]) + \", try again.\"\n",
      "    else:\n",
      "        #index the begin and end points\n",
      "        ibegin = begin - data[0,0]\n",
      "        iend = end - data[0,0]\n",
      "        \n",
      "        #compute standard deviation of the data in the range indicated by [begin:end+1]\n",
      "        datamean = numpy.mean(data[ibegin:iend+1,1])\n",
      "    return datamean"
     ],
     "language": "python",
     "metadata": {},
     "outputs": [],
     "prompt_number": 70
    },
    {
     "cell_type": "code",
     "collapsed": false,
     "input": [
      "def bin_plot(data,binsize,begin,end):\n",
      "    #initialize lists to store binned averages and stdevs\n",
      "    years = []\n",
      "    means = []\n",
      "    stdevs = []\n",
      "    \n",
      "    #loop in increments of binsize to populate lists\n",
      "    i = 0\n",
      "    while i < 160:\n",
      "        years.append([begin+i,begin+i+binsize])\n",
      "        means.append(my_mean(data,begin+i,begin+i+binsize))\n",
      "        stdevs.append(my_stdev(data,begin+i,begin+i+binsize))\n",
      "        i += binsize\n",
      "    return years,means,stdevs"
     ],
     "language": "python",
     "metadata": {},
     "outputs": [],
     "prompt_number": 199
    },
    {
     "cell_type": "code",
     "collapsed": false,
     "input": [
      "round(2012-1850,-1)"
     ],
     "language": "python",
     "metadata": {},
     "outputs": [
      {
       "metadata": {},
       "output_type": "pyout",
       "prompt_number": 187,
       "text": [
        "160.0"
       ]
      }
     ],
     "prompt_number": 187
    },
    {
     "cell_type": "code",
     "collapsed": false,
     "input": [
      "my_mean(data,1850,1860)"
     ],
     "language": "python",
     "metadata": {},
     "outputs": [
      {
       "metadata": {},
       "output_type": "pyout",
       "prompt_number": 197,
       "text": [
        "57.827272727272721"
       ]
      }
     ],
     "prompt_number": 197
    },
    {
     "cell_type": "code",
     "collapsed": false,
     "input": [
      "my_stdev(data,1850,1960)"
     ],
     "language": "python",
     "metadata": {},
     "outputs": [
      {
       "metadata": {},
       "output_type": "pyout",
       "prompt_number": 198,
       "text": [
        "0.27969454740960087"
       ]
      }
     ],
     "prompt_number": 198
    },
    {
     "cell_type": "code",
     "collapsed": false,
     "input": [
      "bin_plot(data,10,1850,2012)"
     ],
     "language": "python",
     "metadata": {},
     "outputs": [
      {
       "metadata": {},
       "output_type": "pyout",
       "prompt_number": 202,
       "text": [
        "([[1850, 1860],\n",
        "  [1860, 1870],\n",
        "  [1870, 1880],\n",
        "  [1880, 1890],\n",
        "  [1890, 1900],\n",
        "  [1900, 1910],\n",
        "  [1910, 1920],\n",
        "  [1920, 1930],\n",
        "  [1930, 1940],\n",
        "  [1940, 1950],\n",
        "  [1950, 1960],\n",
        "  [1960, 1970],\n",
        "  [1970, 1980],\n",
        "  [1980, 1990],\n",
        "  [1990, 2000],\n",
        "  [2000, 2010]],\n",
        " [57.827272727272721,\n",
        "  57.854545454545452,\n",
        "  57.990909090909099,\n",
        "  57.945454545454552,\n",
        "  57.81818181818182,\n",
        "  57.700000000000003,\n",
        "  57.745454545454542,\n",
        "  57.972727272727276,\n",
        "  58.290909090909082,\n",
        "  58.309090909090919,\n",
        "  58.22727272727272,\n",
        "  58.309090909090905,\n",
        "  58.636363636363633,\n",
        "  59.172727272727279,\n",
        "  59.43636363636363,\n",
        "  59.727272727272727],\n",
        " [0.13545149477955676,\n",
        "  0.16160353486028328,\n",
        "  0.21931523785117837,\n",
        "  0.14993111365882511,\n",
        "  0.18982375470746413,\n",
        "  0.2088931871468373,\n",
        "  0.19708621262435233,\n",
        "  0.12856486930664682,\n",
        "  0.15640591394622874,\n",
        "  0.24663018120455546,\n",
        "  0.22599641626647365,\n",
        "  0.17296634173127612,\n",
        "  0.33648646406039534,\n",
        "  0.1656442468935323,\n",
        "  0.2346088709193439,\n",
        "  0.22599641626647274])"
       ]
      }
     ],
     "prompt_number": 202
    }
   ],
   "metadata": {}
  }
 ]
}